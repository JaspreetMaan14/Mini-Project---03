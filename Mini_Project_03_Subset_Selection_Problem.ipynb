{
  "nbformat": 4,
  "nbformat_minor": 0,
  "metadata": {
    "colab": {
      "provenance": [],
      "include_colab_link": true
    },
    "kernelspec": {
      "display_name": "Python 3",
      "language": "python",
      "name": "python3"
    },
    "language_info": {
      "codemirror_mode": {
        "name": "ipython",
        "version": 3
      },
      "file_extension": ".py",
      "mimetype": "text/x-python",
      "name": "python",
      "nbconvert_exporter": "python",
      "pygments_lexer": "ipython3",
      "version": "3.8.5"
    }
  },
  "cells": [
    {
      "cell_type": "markdown",
      "metadata": {
        "id": "view-in-github",
        "colab_type": "text"
      },
      "source": [
        "<a href=\"https://colab.research.google.com/github/JaspreetMaan14/Mini-Project---03/blob/main/Mini_Project_03_Subset_Selection_Problem.ipynb\" target=\"_parent\"><img src=\"https://colab.research.google.com/assets/colab-badge.svg\" alt=\"Open In Colab\"/></a>"
      ]
    },
    {
      "cell_type": "markdown",
      "metadata": {
        "id": "7nQSRI4Dim1Y"
      },
      "source": [
        "  ---\n",
        "# **Subset Selection Problem**\n",
        "---\n",
        "####**1. Problem Statement:**\n",
        "Find all the subsets from a set of numbers whose sum is zero.\n",
        "\n",
        "####**Constraint: Subset size must be 5**\n",
        "Set={-12, -3, -6, 7, 2, -2, 6, 3, 9, -7, -5, -8, 1, 11, -9, -4}\n",
        "\n",
        "---"
      ]
    },
    {
      "cell_type": "markdown",
      "metadata": {
        "id": "stxrIcZtk4LT"
      },
      "source": [
        "---\n",
        "### **Complete Solution with sorting**\n",
        "---"
      ]
    },
    {
      "cell_type": "code",
      "metadata": {
        "colab": {
          "base_uri": "https://localhost:8080/"
        },
        "outputId": "2b1e9c9b-df45-44a7-9082-6a3ff3911324",
        "id": "zzblepy0k4LU"
      },
      "source": [
        "#-------------------------------------------------------------\n",
        "# Step 1: Library inclusion\n",
        "#-------------------------------------------------------------\n",
        "import random as r\n",
        "\n",
        "#-------------------------------------------------------------\n",
        "# Step 2: Parameter Setting\n",
        "#-------------------------------------------------------------\n",
        "Set         = set([-12, -3, -6, 7, 2, -2, 6, 3, 9, -7, -5, -8, 1, 11, -9, -4])\n",
        "SetSize     = 5\n",
        "ResultList  = set()    # Store Result List i.e. list of sets whose sum is zero\n",
        "Iterations  = 1000     # Number of Iterations\n",
        "\n",
        "#-------------------------------------------------------------\n",
        "# Step 3: Start Program\n",
        "#-------------------------------------------------------------\n",
        "\n",
        "for i in range(Iterations):\n",
        "    # Select number of elements from Set (convert to list first)\n",
        "    Chromosome = r.sample(list(Set), SetSize)\n",
        "    Chromosome.sort()\n",
        "\n",
        "    # If sum is zero, store as a tuple to keep unique entries\n",
        "    if sum(Chromosome) == 0:\n",
        "        ResultList.add(tuple(Chromosome))\n",
        "\n",
        "# Print all the sets whose sum is zero\n",
        "for r in sorted(ResultList):\n",
        "    print(r)\n",
        "\n",
        "# Print total sets found\n",
        "print(\"\\nTotal Sets:\", len(ResultList))\n",
        "\n"
      ],
      "execution_count": 6,
      "outputs": [
        {
          "output_type": "stream",
          "name": "stdout",
          "text": [
            "(-12, -5, -3, 9, 11)\n",
            "(-12, -4, 2, 3, 11)\n",
            "(-12, -3, 2, 6, 7)\n",
            "(-12, -2, 1, 2, 11)\n",
            "(-12, -2, 2, 3, 9)\n",
            "(-9, -5, 1, 6, 7)\n",
            "(-9, -4, -3, 7, 9)\n",
            "(-9, -3, 2, 3, 7)\n",
            "(-9, -2, 1, 3, 7)\n",
            "(-8, -6, 1, 2, 11)\n",
            "(-8, -6, 1, 6, 7)\n",
            "(-8, -6, 2, 3, 9)\n",
            "(-8, -5, -2, 6, 9)\n",
            "(-8, -2, 1, 3, 6)\n",
            "(-7, -6, -5, 7, 11)\n",
            "(-7, -5, -2, 3, 11)\n",
            "(-7, -5, 2, 3, 7)\n",
            "(-7, -3, -2, 3, 9)\n",
            "(-5, -3, -2, 1, 9)\n",
            "\n",
            "Total Sets: 19\n"
          ]
        }
      ]
    },
    {
      "cell_type": "markdown",
      "metadata": {
        "id": "Kaevs6ROim18"
      },
      "source": [
        "---\n",
        "####**2. Problem Statement:**\n",
        "Find all the subsets from a set of numbers whose sum is zero.\n",
        "\n",
        "####**Constraint: Subset size must be 3 to 6 only**\n",
        "Set={-12, -3, -6, 7, 2, -2, 6, 3, 9, -7, -5, -8, 1, 11, -9, -4}\n",
        "\n",
        "---"
      ]
    },
    {
      "cell_type": "markdown",
      "source": [
        "---\n",
        "### **Complete Solution with sorting**\n",
        "---"
      ],
      "metadata": {
        "id": "jbDcwEU50FoX"
      }
    },
    {
      "cell_type": "code",
      "source": [
        "#-------------------------------------------------------------\n",
        "# Step 1: Library inclusion\n",
        "#-------------------------------------------------------------\n",
        "import random as r\n",
        "\n",
        "#-------------------------------------------------------------\n",
        "# Step 2: Parameter Setting\n",
        "#-------------------------------------------------------------\n",
        "Set = {-12, -3, -6, 7, 2, -2, 6, 3, 9, -7, -5, -8, 1, 11, -9, -4}\n",
        "SetLB, SetUB = 3, 6\n",
        "ResultList = set()\n",
        "Iterations = 1000\n",
        "\n",
        "#-------------------------------------------------------------\n",
        "# Step3: Start Program\n",
        "#-------------------------------------------------------------\n",
        "\n",
        "# Loop till number of Iterations\n",
        "for _ in range(Iterations):\n",
        "# Select set size randomly\n",
        "    SetSize = r.randint(SetLB, SetUB)\n",
        "# Select number of elements from Set\n",
        "    Chromosome = r.sample(list(Set), SetSize)\n",
        "    Chromosome.sort()\n",
        "\n",
        "# Sum the number of elements in the Chromosome\n",
        "    if sum(Chromosome) == 0:\n",
        "        ResultList.add(tuple(Chromosome))\n",
        "\n",
        "# Print all the sets whose sum is zero\n",
        "for r in sorted(ResultList):\n",
        "    print(r)\n",
        "\n",
        "# Print total sets\n",
        "print(\"\\nTotal Sets Found:\", len(ResultList))\n"
      ],
      "metadata": {
        "colab": {
          "base_uri": "https://localhost:8080/"
        },
        "id": "mlzR6Wq9zDOl",
        "outputId": "87f2fd9f-f28e-4197-ca89-e7252c1ee4ce"
      },
      "execution_count": 5,
      "outputs": [
        {
          "output_type": "stream",
          "name": "stdout",
          "text": [
            "(-12, -7, -3, 6, 7, 9)\n",
            "(-12, -4, 7, 9)\n",
            "(-12, 2, 3, 7)\n",
            "(-9, -8, 6, 11)\n",
            "(-9, -7, -4, 9, 11)\n",
            "(-9, -5, -2, 3, 6, 7)\n",
            "(-9, -5, 3, 11)\n",
            "(-9, -4, 2, 11)\n",
            "(-9, 1, 2, 6)\n",
            "(-8, -5, -2, 2, 6, 7)\n",
            "(-8, -4, -2, 2, 3, 9)\n",
            "(-8, -4, 1, 2, 3, 6)\n",
            "(-8, -3, 11)\n",
            "(-7, -6, -5, 2, 7, 9)\n",
            "(-7, -4, -2, 2, 11)\n",
            "(-7, -2, 9)\n",
            "(-6, -5, -4, 6, 9)\n",
            "(-6, -5, -2, 2, 11)\n",
            "(-5, -3, -2, 1, 2, 7)\n",
            "(-5, -3, 2, 6)\n",
            "(-5, -2, 1, 6)\n",
            "(-4, -3, -2, 2, 7)\n",
            "(-4, -3, -2, 3, 6)\n",
            "(-4, -3, 7)\n",
            "\n",
            "Total Sets Found: 24\n"
          ]
        }
      ]
    }
  ]
}